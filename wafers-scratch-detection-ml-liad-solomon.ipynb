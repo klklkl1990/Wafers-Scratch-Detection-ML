{
 "cells": [
  {
   "cell_type": "markdown",
   "id": "58b8eb72",
   "metadata": {
    "papermill": {
     "duration": 0.007247,
     "end_time": "2022-12-30T18:35:51.361925",
     "exception": false,
     "start_time": "2022-12-30T18:35:51.354678",
     "status": "completed"
    },
    "tags": []
   },
   "source": [
    "## **Import Some Basic Libraries**"
   ]
  },
  {
   "cell_type": "code",
   "execution_count": 1,
   "id": "e537ac01",
   "metadata": {
    "_cell_guid": "b1076dfc-b9ad-4769-8c92-a6c4dae69d19",
    "_uuid": "8f2839f25d086af736a60e9eeb907d3b93b6e0e5",
    "execution": {
     "iopub.execute_input": "2022-12-30T18:35:51.376667Z",
     "iopub.status.busy": "2022-12-30T18:35:51.375675Z",
     "iopub.status.idle": "2022-12-30T18:35:58.754607Z",
     "shell.execute_reply": "2022-12-30T18:35:58.753327Z"
    },
    "papermill": {
     "duration": 7.389362,
     "end_time": "2022-12-30T18:35:58.757578",
     "exception": false,
     "start_time": "2022-12-30T18:35:51.368216",
     "status": "completed"
    },
    "tags": []
   },
   "outputs": [
    {
     "name": "stdout",
     "output_type": "stream",
     "text": [
      "/kaggle/input/wafersdata/df_wafers.csv\n",
      "/kaggle/input/wafersdata/df_wafers_head.csv\n",
      "/kaggle/input/wafersdata/df_wafers_test.csv\n",
      "/kaggle/input/wafersdata/df_wafers_test_head.csv\n"
     ]
    }
   ],
   "source": [
    "# This Python 3 environment comes with many helpful analytics libraries installed\n",
    "# It is defined by the kaggle/python Docker image: https://github.com/kaggle/docker-python\n",
    "# For example, here's several helpful packages to load\n",
    "\n",
    "import numpy as np # linear algebra\n",
    "import pandas as pd # data processing, CSV file I/O (e.g. pd.read_csv)\n",
    "import copy as cp\n",
    "import cv2\n",
    "\n",
    "# Visualizations's libs\n",
    "import matplotlib.pyplot as plt\n",
    "import seaborn as sns\n",
    "plt.style.use('fivethirtyeight')\n",
    "\n",
    "# Modeling used libs\n",
    "import xgboost as xgb\n",
    "from xgboost.sklearn import XGBClassifier\n",
    "from sklearn.metrics import confusion_matrix\n",
    "from sklearn.model_selection import GridSearchCV\n",
    "from imblearn.over_sampling import SMOTE\n",
    "from sklearn.model_selection import train_test_split\n",
    "from sklearn.preprocessing import StandardScaler\n",
    "from sklearn.ensemble import RandomForestClassifier\n",
    "from sklearn.linear_model import LogisticRegression\n",
    "from sklearn.linear_model import Lasso\n",
    "from sklearn.svm import OneClassSVM\n",
    "\n",
    "from keras.models import Model,Sequential, Input, load_model\n",
    "from keras.layers import Dense, Dropout, Flatten, Conv2D, MaxPool2D, BatchNormalization, AveragePooling2D, GlobalAveragePooling2D\n",
    "from keras.preprocessing.image import ImageDataGenerator\n",
    "from keras.callbacks import ModelCheckpoint, ReduceLROnPlateau\n",
    "#from keras.applications import DenseNet121\n",
    "\n",
    "\n",
    "\n",
    "# Avoid warnings\n",
    "import warnings\n",
    "warnings.filterwarnings(\"ignore\", category=DeprecationWarning)\n",
    "\n",
    "\n",
    "# Input data files are available in the read-only \"../input/\" directory\n",
    "# For example, running this (by clicking run or pressing Shift+Enter) will list all files under the input directory\n",
    "\n",
    "import os\n",
    "for dirname, _, filenames in os.walk('/kaggle/input'):\n",
    "    for filename in filenames:\n",
    "        print(os.path.join(dirname, filename))\n",
    "\n",
    "# You can write up to 20GB to the current directory (/kaggle/working/) that gets preserved as output when you create a version using \"Save & Run All\" \n",
    "# You can also write temporary files to /kaggle/temp/, but they won't be saved outside of the current session\n",
    "\n",
    "# Setting up the colors for the output\n",
    "colors = {'good':'green', 'bad':'red', 'scratch':'blue','ink':'yellow'}"
   ]
  },
  {
   "cell_type": "markdown",
   "id": "8f890242",
   "metadata": {
    "papermill": {
     "duration": 0.005847,
     "end_time": "2022-12-30T18:35:58.769801",
     "exception": false,
     "start_time": "2022-12-30T18:35:58.763954",
     "status": "completed"
    },
    "tags": []
   },
   "source": [
    "## **Reading the Training Data and understanding the attributes**"
   ]
  },
  {
   "cell_type": "code",
   "execution_count": 2,
   "id": "8e7ed0f2",
   "metadata": {
    "execution": {
     "iopub.execute_input": "2022-12-30T18:35:58.785109Z",
     "iopub.status.busy": "2022-12-30T18:35:58.783627Z",
     "iopub.status.idle": "2022-12-30T18:35:58.831058Z",
     "shell.execute_reply": "2022-12-30T18:35:58.829892Z"
    },
    "papermill": {
     "duration": 0.057348,
     "end_time": "2022-12-30T18:35:58.833291",
     "exception": false,
     "start_time": "2022-12-30T18:35:58.775943",
     "status": "completed"
    },
    "tags": []
   },
   "outputs": [
    {
     "name": "stdout",
     "output_type": "stream",
     "text": [
      "3015  rows of wafers' trainng data and  5 columns\n",
      "The training data's columns' names:  ['WaferName' 'DieX' 'DieY' 'IsGoodDie' 'IsScratchDie']\n",
      "3  wafers' data in our training data\n",
      "9045  rows of wafers' testing data and  4 columns\n",
      "The testing data's columns' names:  ['WaferName' 'DieX' 'DieY' 'IsGoodDie']\n",
      "9  wafers' data in our testing data\n"
     ]
    }
   ],
   "source": [
    "# reading the training data\n",
    "training_data = pd.read_csv('../input/wafersdata/df_wafers_head.csv')\n",
    "training_df = pd.DataFrame(training_data)\n",
    "\n",
    "#readiing the testing data\n",
    "testing_data = pd.read_csv('../input/wafersdata/df_wafers_test_head.csv')\n",
    "testing_df = pd.DataFrame(testing_data)\n",
    "\n",
    "# getting the shape of the training data\n",
    "# we have 16772092 rows (including duplicates) and 5 columns\n",
    "print(training_data.shape[0],\" rows of wafers' trainng data and \",training_data.shape[1], \"columns\")\n",
    "\n",
    "# Show the training data's columns' names\n",
    "print(\"The training data's columns' names: \", training_df.columns.values)\n",
    "\n",
    "# we have 3920 wafers' data in our training data\n",
    "print((training_df[\"WaferName\"].unique()).shape[0],\" wafers' data in our training data\")\n",
    "\n",
    "# getting the shape of the testing data\n",
    "# we have 1860063 rows (including duplicates) and 4 columns\n",
    "print(testing_data.shape[0],\" rows of wafers' testing data and \",testing_data.shape[1], \"columns\")\n",
    "\n",
    "# Show the testing data's columns' names\n",
    "print(\"The testing data's columns' names: \", testing_df.columns.values)\n",
    "\n",
    "# we have 439 wafers' data in our testing data\n",
    "print((testing_df[\"WaferName\"].unique()).shape[0],\" wafers' data in our testing data\")"
   ]
  },
  {
   "cell_type": "markdown",
   "id": "ca81ada3",
   "metadata": {
    "papermill": {
     "duration": 0.005893,
     "end_time": "2022-12-30T18:35:58.845330",
     "exception": false,
     "start_time": "2022-12-30T18:35:58.839437",
     "status": "completed"
    },
    "tags": []
   },
   "source": [
    "### Reading the head of the data sets"
   ]
  },
  {
   "cell_type": "code",
   "execution_count": 3,
   "id": "98b98f80",
   "metadata": {
    "execution": {
     "iopub.execute_input": "2022-12-30T18:35:58.859843Z",
     "iopub.status.busy": "2022-12-30T18:35:58.858825Z",
     "iopub.status.idle": "2022-12-30T18:35:58.878089Z",
     "shell.execute_reply": "2022-12-30T18:35:58.877010Z"
    },
    "papermill": {
     "duration": 0.029409,
     "end_time": "2022-12-30T18:35:58.880749",
     "exception": false,
     "start_time": "2022-12-30T18:35:58.851340",
     "status": "completed"
    },
    "tags": []
   },
   "outputs": [
    {
     "name": "stdout",
     "output_type": "stream",
     "text": [
      "Training Set's Head\n",
      "\n"
     ]
    },
    {
     "data": {
      "text/html": [
       "<div>\n",
       "<style scoped>\n",
       "    .dataframe tbody tr th:only-of-type {\n",
       "        vertical-align: middle;\n",
       "    }\n",
       "\n",
       "    .dataframe tbody tr th {\n",
       "        vertical-align: top;\n",
       "    }\n",
       "\n",
       "    .dataframe thead th {\n",
       "        text-align: right;\n",
       "    }\n",
       "</style>\n",
       "<table border=\"1\" class=\"dataframe\">\n",
       "  <thead>\n",
       "    <tr style=\"text-align: right;\">\n",
       "      <th></th>\n",
       "      <th>WaferName</th>\n",
       "      <th>DieX</th>\n",
       "      <th>DieY</th>\n",
       "      <th>IsGoodDie</th>\n",
       "      <th>IsScratchDie</th>\n",
       "    </tr>\n",
       "  </thead>\n",
       "  <tbody>\n",
       "    <tr>\n",
       "      <th>0</th>\n",
       "      <td>3b2e28</td>\n",
       "      <td>0</td>\n",
       "      <td>12</td>\n",
       "      <td>False</td>\n",
       "      <td>False</td>\n",
       "    </tr>\n",
       "    <tr>\n",
       "      <th>1</th>\n",
       "      <td>3b2e28</td>\n",
       "      <td>0</td>\n",
       "      <td>13</td>\n",
       "      <td>True</td>\n",
       "      <td>False</td>\n",
       "    </tr>\n",
       "    <tr>\n",
       "      <th>2</th>\n",
       "      <td>3b2e28</td>\n",
       "      <td>0</td>\n",
       "      <td>14</td>\n",
       "      <td>False</td>\n",
       "      <td>False</td>\n",
       "    </tr>\n",
       "    <tr>\n",
       "      <th>3</th>\n",
       "      <td>3b2e28</td>\n",
       "      <td>0</td>\n",
       "      <td>15</td>\n",
       "      <td>True</td>\n",
       "      <td>False</td>\n",
       "    </tr>\n",
       "    <tr>\n",
       "      <th>4</th>\n",
       "      <td>3b2e28</td>\n",
       "      <td>0</td>\n",
       "      <td>16</td>\n",
       "      <td>True</td>\n",
       "      <td>False</td>\n",
       "    </tr>\n",
       "  </tbody>\n",
       "</table>\n",
       "</div>"
      ],
      "text/plain": [
       "  WaferName  DieX  DieY  IsGoodDie  IsScratchDie\n",
       "0    3b2e28     0    12      False         False\n",
       "1    3b2e28     0    13       True         False\n",
       "2    3b2e28     0    14      False         False\n",
       "3    3b2e28     0    15       True         False\n",
       "4    3b2e28     0    16       True         False"
      ]
     },
     "execution_count": 3,
     "metadata": {},
     "output_type": "execute_result"
    }
   ],
   "source": [
    "print(\"Training Set's Head\\n\")\n",
    "training_data.head()"
   ]
  },
  {
   "cell_type": "code",
   "execution_count": 4,
   "id": "30881c89",
   "metadata": {
    "execution": {
     "iopub.execute_input": "2022-12-30T18:35:58.895449Z",
     "iopub.status.busy": "2022-12-30T18:35:58.895061Z",
     "iopub.status.idle": "2022-12-30T18:35:58.908392Z",
     "shell.execute_reply": "2022-12-30T18:35:58.906722Z"
    },
    "papermill": {
     "duration": 0.02366,
     "end_time": "2022-12-30T18:35:58.910983",
     "exception": false,
     "start_time": "2022-12-30T18:35:58.887323",
     "status": "completed"
    },
    "tags": []
   },
   "outputs": [
    {
     "name": "stdout",
     "output_type": "stream",
     "text": [
      "Testing Set's Head\n",
      "\n"
     ]
    },
    {
     "data": {
      "text/html": [
       "<div>\n",
       "<style scoped>\n",
       "    .dataframe tbody tr th:only-of-type {\n",
       "        vertical-align: middle;\n",
       "    }\n",
       "\n",
       "    .dataframe tbody tr th {\n",
       "        vertical-align: top;\n",
       "    }\n",
       "\n",
       "    .dataframe thead th {\n",
       "        text-align: right;\n",
       "    }\n",
       "</style>\n",
       "<table border=\"1\" class=\"dataframe\">\n",
       "  <thead>\n",
       "    <tr style=\"text-align: right;\">\n",
       "      <th></th>\n",
       "      <th>WaferName</th>\n",
       "      <th>DieX</th>\n",
       "      <th>DieY</th>\n",
       "      <th>IsGoodDie</th>\n",
       "    </tr>\n",
       "  </thead>\n",
       "  <tbody>\n",
       "    <tr>\n",
       "      <th>0</th>\n",
       "      <td>5a6ad6</td>\n",
       "      <td>0</td>\n",
       "      <td>12</td>\n",
       "      <td>False</td>\n",
       "    </tr>\n",
       "    <tr>\n",
       "      <th>1</th>\n",
       "      <td>5a6ad6</td>\n",
       "      <td>0</td>\n",
       "      <td>13</td>\n",
       "      <td>True</td>\n",
       "    </tr>\n",
       "    <tr>\n",
       "      <th>2</th>\n",
       "      <td>5a6ad6</td>\n",
       "      <td>0</td>\n",
       "      <td>14</td>\n",
       "      <td>True</td>\n",
       "    </tr>\n",
       "    <tr>\n",
       "      <th>3</th>\n",
       "      <td>5a6ad6</td>\n",
       "      <td>0</td>\n",
       "      <td>15</td>\n",
       "      <td>True</td>\n",
       "    </tr>\n",
       "    <tr>\n",
       "      <th>4</th>\n",
       "      <td>5a6ad6</td>\n",
       "      <td>0</td>\n",
       "      <td>16</td>\n",
       "      <td>True</td>\n",
       "    </tr>\n",
       "  </tbody>\n",
       "</table>\n",
       "</div>"
      ],
      "text/plain": [
       "  WaferName  DieX  DieY  IsGoodDie\n",
       "0    5a6ad6     0    12      False\n",
       "1    5a6ad6     0    13       True\n",
       "2    5a6ad6     0    14       True\n",
       "3    5a6ad6     0    15       True\n",
       "4    5a6ad6     0    16       True"
      ]
     },
     "execution_count": 4,
     "metadata": {},
     "output_type": "execute_result"
    }
   ],
   "source": [
    "print(\"Testing Set's Head\\n\")\n",
    "testing_data.head()"
   ]
  },
  {
   "cell_type": "markdown",
   "id": "3bb76ff5",
   "metadata": {
    "papermill": {
     "duration": 0.008527,
     "end_time": "2022-12-30T18:35:58.926261",
     "exception": false,
     "start_time": "2022-12-30T18:35:58.917734",
     "status": "completed"
    },
    "tags": []
   },
   "source": [
    "## Check for wafers' dimensions"
   ]
  },
  {
   "cell_type": "code",
   "execution_count": 5,
   "id": "b8a57742",
   "metadata": {
    "execution": {
     "iopub.execute_input": "2022-12-30T18:35:58.941535Z",
     "iopub.status.busy": "2022-12-30T18:35:58.941100Z",
     "iopub.status.idle": "2022-12-30T18:35:59.000351Z",
     "shell.execute_reply": "2022-12-30T18:35:58.998955Z"
    },
    "papermill": {
     "duration": 0.070428,
     "end_time": "2022-12-30T18:35:59.003448",
     "exception": false,
     "start_time": "2022-12-30T18:35:58.933020",
     "status": "completed"
    },
    "tags": []
   },
   "outputs": [
    {
     "name": "stdout",
     "output_type": "stream",
     "text": [
      "Training set's wafers' dimensions: \n",
      "\n",
      "  WaferName  dimX  dimY\n",
      "0    3b2e28    35    35\n",
      "1    97a213    35    35\n",
      "2    e412b6    35    35\n",
      "All the wafers from training data are square\n",
      "Max and min dims are:  35 35\n",
      "Most common dim: \n",
      " 35    3\n",
      "Name: dimX, dtype: int64\n",
      "Mean dim is: \n",
      " 35.0\n",
      "\n",
      "\n",
      "Test set's wafers' dimensions:\n",
      "\n",
      "  WaferName  dimX  dimY\n",
      "0    01913a    35    35\n",
      "1    179b32    35    35\n",
      "2    1baf11    35    35\n",
      "3    342886    35    35\n",
      "4    4dd3dd    35    35\n",
      "5    5219a1    35    35\n",
      "6    5a6ad6    35    35\n",
      "7    988551    35    35\n",
      "8    ea85bd    35    35\n",
      "All the wafers from testing data are square\n",
      "Max and min dims are:  35 35\n",
      "Most common dim:\n",
      " 35    9\n",
      "Name: dimX, dtype: int64\n",
      "Mean dim is: \n",
      " 35.0\n"
     ]
    }
   ],
   "source": [
    "print(\"Training set's wafers' dimensions: \\n\")\n",
    "training_dim_x = (training_df.groupby(['WaferName'])['DieX'].max()+1).reset_index(name='dimX')\n",
    "training_dim_y = (training_df.groupby(['WaferName'])['DieY'].max()+1).reset_index(name='dimY')\n",
    "train_dim = pd.merge(training_dim_x, training_dim_y, on='WaferName')\n",
    "print(train_dim)\n",
    "if (train_dim.query(\"dimX != dimY\")).empty:\n",
    "    print(\"All the wafers from training data are square\")\n",
    "print(\"Max and min dims are: \",train_dim['dimX'].max(),train_dim['dimX'].min())\n",
    "print(\"Most common dim: \\n\",(train_dim['dimX'].value_counts()).head())\n",
    "print(\"Mean dim is: \\n\",(train_dim['dimX'].mean()))\n",
    "print(\"\\n\")\n",
    "\n",
    "print(\"Test set's wafers' dimensions:\\n\")\n",
    "testdim_x = (testing_df.groupby(['WaferName'])['DieX'].max()+1).reset_index(name='dimX')\n",
    "testdim_y = (testing_df.groupby(['WaferName'])['DieY'].max()+1).reset_index(name='dimY')\n",
    "test_dim = pd.merge(testdim_x, testdim_y, on='WaferName')\n",
    "print(test_dim)\n",
    "if (test_dim.query(\"dimX != dimY\")).empty:\n",
    "    print(\"All the wafers from testing data are square\")\n",
    "print(\"Max and min dims are: \",test_dim['dimX'].max(),test_dim['dimX'].min())\n",
    "print(\"Most common dim:\\n\",(test_dim['dimX'].value_counts()).head())\n",
    "print(\"Mean dim is: \\n\",(test_dim['dimX'].mean()))\n",
    "MEAN_DIM=100\n",
    "#MEAN_DIM = int((train_dim['dimX'].mean()+test_dim['dimX'].mean())/2)"
   ]
  },
  {
   "cell_type": "markdown",
   "id": "f7e56cc2",
   "metadata": {
    "papermill": {
     "duration": 0.006648,
     "end_time": "2022-12-30T18:35:59.017355",
     "exception": false,
     "start_time": "2022-12-30T18:35:59.010707",
     "status": "completed"
    },
    "tags": []
   },
   "source": [
    "### Check for Null values"
   ]
  },
  {
   "cell_type": "code",
   "execution_count": 6,
   "id": "0f25ffb1",
   "metadata": {
    "execution": {
     "iopub.execute_input": "2022-12-30T18:35:59.033795Z",
     "iopub.status.busy": "2022-12-30T18:35:59.032986Z",
     "iopub.status.idle": "2022-12-30T18:35:59.043447Z",
     "shell.execute_reply": "2022-12-30T18:35:59.041961Z"
    },
    "papermill": {
     "duration": 0.02144,
     "end_time": "2022-12-30T18:35:59.046027",
     "exception": false,
     "start_time": "2022-12-30T18:35:59.024587",
     "status": "completed"
    },
    "tags": []
   },
   "outputs": [
    {
     "name": "stdout",
     "output_type": "stream",
     "text": [
      "False \n",
      "\n",
      "False\n"
     ]
    }
   ],
   "source": [
    "# Checking if the dataset contains any NULL values\n",
    "print(training_data.isnull().any().any(),\"\\n\")\n",
    "# Checking if the dataset contains any NULL values\n",
    "print(testing_data.isnull().any().any())"
   ]
  },
  {
   "cell_type": "markdown",
   "id": "a511c4e1",
   "metadata": {
    "papermill": {
     "duration": 0.008234,
     "end_time": "2022-12-30T18:35:59.061927",
     "exception": false,
     "start_time": "2022-12-30T18:35:59.053693",
     "status": "completed"
    },
    "tags": []
   },
   "source": [
    "## **Summarizing some statistics regarding the wafers**"
   ]
  },
  {
   "cell_type": "markdown",
   "id": "812b3b42",
   "metadata": {
    "papermill": {
     "duration": 0.007293,
     "end_time": "2022-12-30T18:35:59.076417",
     "exception": false,
     "start_time": "2022-12-30T18:35:59.069124",
     "status": "completed"
    },
    "tags": []
   },
   "source": [
    "### **Statistics: Good or Bad dies from training data**"
   ]
  },
  {
   "cell_type": "code",
   "execution_count": 7,
   "id": "1c55a795",
   "metadata": {
    "execution": {
     "iopub.execute_input": "2022-12-30T18:35:59.092778Z",
     "iopub.status.busy": "2022-12-30T18:35:59.092074Z",
     "iopub.status.idle": "2022-12-30T18:35:59.127886Z",
     "shell.execute_reply": "2022-12-30T18:35:59.126389Z"
    },
    "papermill": {
     "duration": 0.047026,
     "end_time": "2022-12-30T18:35:59.130638",
     "exception": false,
     "start_time": "2022-12-30T18:35:59.083612",
     "status": "completed"
    },
    "tags": []
   },
   "outputs": [
    {
     "name": "stdout",
     "output_type": "stream",
     "text": [
      "   index WaferName  GoodDiesCount\n",
      "0      3    97a213            921\n",
      "1      1    3b2e28            910\n",
      "2      5    e412b6            910 \n",
      "\n",
      "   index WaferName  BadDiesCount\n",
      "0      0    3b2e28            95\n",
      "1      4    e412b6            95\n",
      "2      2    97a213            84 \n",
      "\n",
      "  WaferName  GoodDiesCount  BadDiesCount  BadDiesRatio(%)\n",
      "1    3b2e28            910            95         9.452736\n",
      "2    e412b6            910            95         9.452736\n",
      "0    97a213            921            84         8.358209 \n",
      "\n"
     ]
    }
   ],
   "source": [
    "training_df_good_dies = training_df.groupby(['WaferName', 'IsGoodDie']).size().reset_index(name='Count')\n",
    "\n",
    "filtered_df1 = training_df_good_dies.query('IsGoodDie')\n",
    "filtered_df1 = filtered_df1.drop(columns='IsGoodDie')\n",
    "filtered_df1 = filtered_df1.sort_values(by='Count', ascending=False)\n",
    "filtered_df11 = filtered_df1.reset_index().rename(columns={'Count': 'GoodDiesCount'})\n",
    "\n",
    "print(filtered_df11.head(),'\\n')\n",
    "\n",
    "filtered_df2 = training_df_good_dies.query('~IsGoodDie')\n",
    "filtered_df2 = filtered_df2.drop(columns='IsGoodDie')\n",
    "filtered_df2 = filtered_df2.sort_values(by='Count', ascending=False)\n",
    "filtered_df22 = filtered_df2.reset_index().rename(columns={'Count': 'BadDiesCount'})\n",
    "print(filtered_df22.head(),'\\n')\n",
    "\n",
    "organized_filtered_df = pd.merge(filtered_df11, filtered_df22, on='WaferName')\n",
    "organized_filtered_df = organized_filtered_df.drop(columns=['index_x','index_y'])\n",
    "organized_filtered_df['BadDiesRatio(%)'] = (organized_filtered_df['BadDiesCount']/(organized_filtered_df['BadDiesCount']+organized_filtered_df['GoodDiesCount'])*100)\n",
    "organized_filtered_df = organized_filtered_df.sort_values(by='BadDiesRatio(%)', ascending=False)\n",
    "print(organized_filtered_df.head(),'\\n')"
   ]
  },
  {
   "cell_type": "markdown",
   "id": "ab7a95cf",
   "metadata": {
    "papermill": {
     "duration": 0.006927,
     "end_time": "2022-12-30T18:35:59.144839",
     "exception": false,
     "start_time": "2022-12-30T18:35:59.137912",
     "status": "completed"
    },
    "tags": []
   },
   "source": [
    "### **Statistics: Sctrached or none scratched dies from training data**"
   ]
  },
  {
   "cell_type": "code",
   "execution_count": 8,
   "id": "cc0e65f2",
   "metadata": {
    "_kg_hide-input": false,
    "execution": {
     "iopub.execute_input": "2022-12-30T18:35:59.161401Z",
     "iopub.status.busy": "2022-12-30T18:35:59.160779Z",
     "iopub.status.idle": "2022-12-30T18:35:59.200038Z",
     "shell.execute_reply": "2022-12-30T18:35:59.197989Z"
    },
    "papermill": {
     "duration": 0.050594,
     "end_time": "2022-12-30T18:35:59.202699",
     "exception": false,
     "start_time": "2022-12-30T18:35:59.152105",
     "status": "completed"
    },
    "tags": []
   },
   "outputs": [
    {
     "name": "stdout",
     "output_type": "stream",
     "text": [
      "   index WaferName  ScratchedDiesCount\n",
      "0      5    e412b6                  27\n",
      "1      1    3b2e28                  25\n",
      "2      3    97a213                  17 \n",
      "\n",
      "   index WaferName  NoneScratchedDiesCount\n",
      "0      2    97a213                     988\n",
      "1      0    3b2e28                     980\n",
      "2      4    e412b6                     978 \n",
      "\n",
      "  WaferName  ScratchedDiesCount  NoneScratchedDiesCount  ScratchedDiesRatio(%)\n",
      "0    e412b6                  27                     978               2.686567\n",
      "1    3b2e28                  25                     980               2.487562\n",
      "2    97a213                  17                     988               1.691542 \n",
      "\n"
     ]
    }
   ],
   "source": [
    "training_df_sc_dies = training_df.groupby(['WaferName', 'IsScratchDie']).size().reset_index(name='ScratchedDiesCount')\n",
    "\n",
    "filtered_sc_df1 = training_df_sc_dies.query('IsScratchDie')\n",
    "filtered_sc_df1 = filtered_sc_df1.drop(columns='IsScratchDie')\n",
    "filtered_sc_df1 = filtered_sc_df1.sort_values(by='ScratchedDiesCount', ascending=False)\n",
    "filtered_sc_df11 = filtered_sc_df1.reset_index().rename(columns={'Count': 'ScratchedDiesCount'})\n",
    "\n",
    "print(filtered_sc_df11.head(),'\\n')\n",
    "\n",
    "filtered_sc_df2 = training_df_sc_dies.query('~IsScratchDie')\n",
    "filtered_sc_df2 = filtered_sc_df2.drop(columns='IsScratchDie')\n",
    "filtered_sc_df2 = filtered_sc_df2.sort_values(by='ScratchedDiesCount', ascending=False)\n",
    "filtered_sc_df22 = filtered_sc_df2.reset_index().rename(columns={'ScratchedDiesCount': 'NoneScratchedDiesCount'})\n",
    "print(filtered_sc_df22.head(),'\\n')\n",
    "\n",
    "organized_filtered_sc_df = pd.merge(filtered_sc_df11, filtered_sc_df22, on='WaferName')\n",
    "organized_filtered_sc_df = organized_filtered_sc_df.drop(columns=['index_x','index_y'])\n",
    "organized_filtered_sc_df['ScratchedDiesRatio(%)'] = (organized_filtered_sc_df['ScratchedDiesCount']/(organized_filtered_sc_df['ScratchedDiesCount']+organized_filtered_sc_df['NoneScratchedDiesCount'])*100)\n",
    "organized_filtered_sc_df = organized_filtered_sc_df.sort_values(by='ScratchedDiesRatio(%)', ascending=False)\n",
    "print(organized_filtered_sc_df.head(),'\\n')"
   ]
  },
  {
   "cell_type": "markdown",
   "id": "6ff0286c",
   "metadata": {
    "papermill": {
     "duration": 0.006909,
     "end_time": "2022-12-30T18:35:59.216911",
     "exception": false,
     "start_time": "2022-12-30T18:35:59.210002",
     "status": "completed"
    },
    "tags": []
   },
   "source": [
    "### **Statistics: Good or Bad dies from testing data**"
   ]
  },
  {
   "cell_type": "code",
   "execution_count": 9,
   "id": "2884a0b9",
   "metadata": {
    "execution": {
     "iopub.execute_input": "2022-12-30T18:35:59.233010Z",
     "iopub.status.busy": "2022-12-30T18:35:59.232637Z",
     "iopub.status.idle": "2022-12-30T18:35:59.266212Z",
     "shell.execute_reply": "2022-12-30T18:35:59.264543Z"
    },
    "papermill": {
     "duration": 0.045462,
     "end_time": "2022-12-30T18:35:59.269619",
     "exception": false,
     "start_time": "2022-12-30T18:35:59.224157",
     "status": "completed"
    },
    "tags": []
   },
   "outputs": [
    {
     "name": "stdout",
     "output_type": "stream",
     "text": [
      "   index WaferName  GoodDiesCount\n",
      "0      9    4dd3dd            927\n",
      "1     17    ea85bd            924\n",
      "2     13    5a6ad6            923\n",
      "3      5    1baf11            919\n",
      "4     11    5219a1            917 \n",
      "\n",
      "   index WaferName  BadDiesCount\n",
      "0      0    01913a            94\n",
      "1     14    988551            91\n",
      "2      2    179b32            89\n",
      "3      6    342886            89\n",
      "4     10    5219a1            88 \n",
      "\n",
      "  WaferName  GoodDiesCount  BadDiesCount  BadDiesRatio(%)\n",
      "8    01913a            911            94         9.353234\n",
      "7    988551            914            91         9.054726\n",
      "5    179b32            916            89         8.855721\n",
      "6    342886            916            89         8.855721\n",
      "4    5219a1            917            88         8.756219 \n",
      "\n"
     ]
    }
   ],
   "source": [
    "testing_df_good_dies = testing_df.groupby(['WaferName', 'IsGoodDie']).size().reset_index(name='Count')\n",
    "\n",
    "filtered_test_df1 = testing_df_good_dies.query('IsGoodDie')\n",
    "filtered_test_df1 = filtered_test_df1.drop(columns='IsGoodDie')\n",
    "filtered_test_df1 = filtered_test_df1.sort_values(by='Count', ascending=False)\n",
    "filtered_test_df11 = filtered_test_df1.reset_index().rename(columns={'Count': 'GoodDiesCount'})\n",
    "\n",
    "print(filtered_test_df11.head(),'\\n')\n",
    "\n",
    "filtered_test_df2 = testing_df_good_dies.query('~IsGoodDie')\n",
    "filtered_test_df2 = filtered_test_df2.drop(columns='IsGoodDie')\n",
    "filtered_test_df2 = filtered_test_df2.sort_values(by='Count', ascending=False)\n",
    "filtered_test_df22 = filtered_test_df2.reset_index().rename(columns={'Count': 'BadDiesCount'})\n",
    "print(filtered_test_df22.head(),'\\n')\n",
    "\n",
    "organized_filtered_test_df = pd.merge(filtered_test_df11, filtered_test_df22, on='WaferName')\n",
    "organized_filtered_test_df = organized_filtered_test_df.drop(columns=['index_x','index_y'])\n",
    "organized_filtered_test_df['BadDiesRatio(%)'] = (organized_filtered_test_df['BadDiesCount']/(organized_filtered_test_df['BadDiesCount']+organized_filtered_test_df['GoodDiesCount'])*100)\n",
    "organized_filtered_test_df = organized_filtered_test_df.sort_values(by='BadDiesRatio(%)', ascending=False)\n",
    "print(organized_filtered_test_df.head(),'\\n')"
   ]
  },
  {
   "cell_type": "markdown",
   "id": "31bc9a9f",
   "metadata": {
    "papermill": {
     "duration": 0.007361,
     "end_time": "2022-12-30T18:35:59.284984",
     "exception": false,
     "start_time": "2022-12-30T18:35:59.277623",
     "status": "completed"
    },
    "tags": []
   },
   "source": [
    "## **Data Visualization**"
   ]
  },
  {
   "cell_type": "markdown",
   "id": "2abe130b",
   "metadata": {
    "papermill": {
     "duration": 0.006896,
     "end_time": "2022-12-30T18:35:59.299300",
     "exception": false,
     "start_time": "2022-12-30T18:35:59.292404",
     "status": "completed"
    },
    "tags": []
   },
   "source": [
    "### **Transforming Images**"
   ]
  },
  {
   "cell_type": "code",
   "execution_count": 10,
   "id": "58fd51e4",
   "metadata": {
    "execution": {
     "iopub.execute_input": "2022-12-30T18:35:59.317062Z",
     "iopub.status.busy": "2022-12-30T18:35:59.316027Z",
     "iopub.status.idle": "2022-12-30T18:35:59.335462Z",
     "shell.execute_reply": "2022-12-30T18:35:59.334472Z"
    },
    "papermill": {
     "duration": 0.030767,
     "end_time": "2022-12-30T18:35:59.337952",
     "exception": false,
     "start_time": "2022-12-30T18:35:59.307185",
     "status": "completed"
    },
    "tags": []
   },
   "outputs": [],
   "source": [
    "TRAIN_FLAG = 0\n",
    "TEST_FLAG = 1\n",
    "class Data_Handler():\n",
    "   #This class has basic data handler functions, used to exact data for our model\n",
    "    def __init__(self, data, dimdata, train_test_flag):\n",
    "        self.data = data\n",
    "        self.dimdata = dimdata\n",
    "        self.unique_wf_names = data[['WaferName']].drop_duplicates()\n",
    "        self.X = None\n",
    "        self.scratchX = None\n",
    "        self.train_test_flag=train_test_flag\n",
    "\n",
    "    def extract_image(self, wf_name):\n",
    "      # extract dies of wafer from data set\n",
    "      # 0 is false and 1 is true\n",
    "        wf_dim = self.dimdata[self.dimdata[\"WaferName\"]==wf_name]['dimX'].values[0]\n",
    "        image=[[0 for _ in range(wf_dim)] for _ in range(wf_dim)] \n",
    "        wf_table = self.data[self.data[\"WaferName\"]== wf_name]\n",
    "        for i, item in wf_table.iterrows():\n",
    "            image[item[1]][item[2]]=int(item[3])\n",
    "        return image\n",
    "    \n",
    "    def extract_scratch_image(self, wf_name):\n",
    "      # extract scratching info of wafer from data set\n",
    "      # 0 is false and 1 is true\n",
    "        wf_dim_line = self.dimdata[self.dimdata[\"WaferName\"]==wf_name]['dimX']\n",
    "        if wf_dim_line.empty:\n",
    "            return None\n",
    "        wf_dim = wf_dim_line.values[0]\n",
    "        image=[[0 for _ in range(wf_dim)] for _ in range(wf_dim)] \n",
    "        wf_table = self.data[self.data[\"WaferName\"]== wf_name]\n",
    "        for i, item in wf_table.iterrows():\n",
    "            image[item[1]][item[2]]=int(item[4])\n",
    "        return image\n",
    "    \n",
    "    def denoise(self, image):\n",
    "          #1. resize image to 21*21\n",
    "          #2. reduce noise\n",
    "        resized_image1 = np.array(image,dtype='uint8')\n",
    "        resized_image = cv2.resize(resized_image1, (MEAN_DIM, MEAN_DIM), interpolation = cv2.INTER_AREA)\n",
    "        return resized_image\n",
    "\n",
    "    def insert_data(self,):\n",
    "          #1. resize all image in training data into same size\n",
    "          #2. one-hot encoding labels\n",
    "        X = dict()\n",
    "        scratchX = dict()\n",
    "        for wf in self.unique_wf_names['WaferName']:\n",
    "            image = self.extract_image(wf)\n",
    "            image = self.denoise(image)\n",
    "            X[str(wf)]=image\n",
    "            if (self.train_test_flag==TRAIN_FLAG):\n",
    "                scratch_image = self.extract_scratch_image(wf)\n",
    "                scratch_image = self.denoise(scratch_image)\n",
    "                scratchX[str(wf)]=scratch_image \n",
    "        self.X = X\n",
    "        self.scratchX = scratchX\n",
    "        #self.X = np.array(X).astype(np.float32) / 255.0  # normalize images\n",
    "        #self.scratchX = np.array(scratchX).astype(np.float32) / 255.0  # normalize images\n",
    "\n",
    "    def add_channel(self, x):\n",
    "        #1. add channel to images\n",
    "        return np.expand_dims(x, axis=3)\n",
    "    \n",
    "    # train 0, test 1\n",
    "    def plot_image(self, wf_name):\n",
    "        image = self.X[str(wf_name)]\n",
    "        if (self.train_test_flag==TRAIN_FLAG):\n",
    "            image = self.scratchX[wf_name]\n",
    "        plt.imshow(image, cmap=\"copper_r\")\n",
    "        plt.show()\n",
    "        \n",
    "    def plot_image_list(self,wf_names_list):\n",
    "        for wf_name in wf_names_list:\n",
    "            self.plot_image(str(wf_name))"
   ]
  },
  {
   "cell_type": "markdown",
   "id": "73d5c3c0",
   "metadata": {
    "papermill": {
     "duration": 0.007512,
     "end_time": "2022-12-30T18:35:59.353110",
     "exception": false,
     "start_time": "2022-12-30T18:35:59.345598",
     "status": "completed"
    },
    "tags": []
   },
   "source": [
    "**Data testing**"
   ]
  },
  {
   "cell_type": "code",
   "execution_count": 11,
   "id": "c1a9e5bd",
   "metadata": {
    "execution": {
     "iopub.execute_input": "2022-12-30T18:35:59.369720Z",
     "iopub.status.busy": "2022-12-30T18:35:59.369086Z",
     "iopub.status.idle": "2022-12-30T18:36:00.214374Z",
     "shell.execute_reply": "2022-12-30T18:36:00.213166Z"
    },
    "papermill": {
     "duration": 0.856551,
     "end_time": "2022-12-30T18:36:00.217095",
     "exception": false,
     "start_time": "2022-12-30T18:35:59.360544",
     "status": "completed"
    },
    "tags": []
   },
   "outputs": [],
   "source": [
    "tr = cp.deepcopy(training_df)\n",
    "train = Data_Handler(tr,train_dim, TRAIN_FLAG)\n",
    "train.insert_data()\n",
    "\n",
    "ts = cp.deepcopy(testing_df)\n",
    "test = Data_Handler(ts, test_dim, TEST_FLAG)\n",
    "test.insert_data()"
   ]
  },
  {
   "cell_type": "markdown",
   "id": "eec74372",
   "metadata": {
    "papermill": {
     "duration": 0.007027,
     "end_time": "2022-12-30T18:36:00.231642",
     "exception": false,
     "start_time": "2022-12-30T18:36:00.224615",
     "status": "completed"
    },
    "tags": []
   },
   "source": [
    "### **Print the top 4 wafers with greatest bad dies and scratched dies ratio from training data**"
   ]
  },
  {
   "cell_type": "code",
   "execution_count": 12,
   "id": "f3422aab",
   "metadata": {
    "execution": {
     "iopub.execute_input": "2022-12-30T18:36:00.247989Z",
     "iopub.status.busy": "2022-12-30T18:36:00.247587Z",
     "iopub.status.idle": "2022-12-30T18:36:01.368829Z",
     "shell.execute_reply": "2022-12-30T18:36:01.367730Z"
    },
    "papermill": {
     "duration": 1.132161,
     "end_time": "2022-12-30T18:36:01.371095",
     "exception": false,
     "start_time": "2022-12-30T18:36:00.238934",
     "status": "completed"
    },
    "tags": []
   },
   "outputs": [
    {
     "name": "stdout",
     "output_type": "stream",
     "text": [
      "Ploting top wafers with greatest bad dies ratio\n",
      "\n"
     ]
    },
    {
     "data": {
      "image/png": "[encoded data removed]",
      "text/plain": [
       "<Figure size 432x288 with 1 Axes>"
      ]
     },
     "metadata": {},
     "output_type": "display_data"
    },
    {
     "data": {
      "image/png": "[encoded data removed]",
      "text/plain": [
       "<Figure size 432x288 with 1 Axes>"
      ]
     },
     "metadata": {},
     "output_type": "display_data"
    },
    {
     "data": {
      "image/png": "[encoded data removed]",
      "text/plain": [
       "<Figure size 432x288 with 1 Axes>"
      ]
     },
     "metadata": {},
     "output_type": "display_data"
    },
    {
     "name": "stdout",
     "output_type": "stream",
     "text": [
      "Ploting top wafers with greatest scratched dies ratio\n",
      "\n"
     ]
    },
    {
     "data": {
      "image/png": "[encoded data removed]",
      "text/plain": [
       "<Figure size 432x288 with 1 Axes>"
      ]
     },
     "metadata": {},
     "output_type": "display_data"
    },
    {
     "data": {
      "image/png": "[encoded data removed]",
      "text/plain": [
       "<Figure size 432x288 with 1 Axes>"
      ]
     },
     "metadata": {},
     "output_type": "display_data"
    },
    {
     "data": {
      "image/png": "[encoded data removed]",
      "text/plain": [
       "<Figure size 432x288 with 1 Axes>"
      ]
     },
     "metadata": {},
     "output_type": "display_data"
    }
   ],
   "source": [
    "print(\"Ploting top wafers with greatest bad dies ratio\\n\")\n",
    "curr_names=(organized_filtered_df.head())['WaferName']\n",
    "train.plot_image_list(curr_names)\n",
    "\n",
    "print(\"Ploting top wafers with greatest scratched dies ratio\\n\")\n",
    "curr_names=(organized_filtered_sc_df.head())['WaferName']\n",
    "train.plot_image_list(curr_names)"
   ]
  },
  {
   "cell_type": "markdown",
   "id": "0d8fa69e",
   "metadata": {
    "papermill": {
     "duration": 0.008355,
     "end_time": "2022-12-30T18:36:01.388460",
     "exception": false,
     "start_time": "2022-12-30T18:36:01.380105",
     "status": "completed"
    },
    "tags": []
   },
   "source": [
    "### **Print the top 4 wafers with gratest scratched dies ratio**"
   ]
  },
  {
   "cell_type": "code",
   "execution_count": 13,
   "id": "f0743d12",
   "metadata": {
    "execution": {
     "iopub.execute_input": "2022-12-30T18:36:01.407910Z",
     "iopub.status.busy": "2022-12-30T18:36:01.407557Z",
     "iopub.status.idle": "2022-12-30T18:36:02.335014Z",
     "shell.execute_reply": "2022-12-30T18:36:02.333922Z"
    },
    "papermill": {
     "duration": 0.940009,
     "end_time": "2022-12-30T18:36:02.337358",
     "exception": false,
     "start_time": "2022-12-30T18:36:01.397349",
     "status": "completed"
    },
    "tags": []
   },
   "outputs": [
    {
     "data": {
      "image/png": "[encoded data removed]",
      "text/plain": [
       "<Figure size 432x288 with 1 Axes>"
      ]
     },
     "metadata": {},
     "output_type": "display_data"
    },
    {
     "data": {
      "image/png": "[encoded data removed]",
      "text/plain": [
       "<Figure size 432x288 with 1 Axes>"
      ]
     },
     "metadata": {},
     "output_type": "display_data"
    },
    {
     "data": {
      "image/png": "[encoded data removed]",
      "text/plain": [
       "<Figure size 432x288 with 1 Axes>"
      ]
     },
     "metadata": {},
     "output_type": "display_data"
    },
    {
     "data": {
      "image/png": "[encoded data removed]",
      "text/plain": [
       "<Figure size 432x288 with 1 Axes>"
      ]
     },
     "metadata": {},
     "output_type": "display_data"
    },
    {
     "data": {
      "image/png": "[encoded data removed]",
      "text/plain": [
       "<Figure size 432x288 with 1 Axes>"
      ]
     },
     "metadata": {},
     "output_type": "display_data"
    }
   ],
   "source": [
    "curr_names=(organized_filtered_test_df.head())['WaferName']\n",
    "test.plot_image_list(curr_names)"
   ]
  }
 ],
 "metadata": {
  "kernelspec": {
   "display_name": "Python 3",
   "language": "python",
   "name": "python3"
  },
  "language_info": {
   "codemirror_mode": {
    "name": "ipython",
    "version": 3
   },
   "file_extension": ".py",
   "mimetype": "text/x-python",
   "name": "python",
   "nbconvert_exporter": "python",
   "pygments_lexer": "ipython3",
   "version": "3.7.12"
  },
  "papermill": {
   "default_parameters": {},
   "duration": 22.11502,
   "end_time": "2022-12-30T18:36:05.294582",
   "environment_variables": {},
   "exception": null,
   "input_path": "__notebook__.ipynb",
   "output_path": "__notebook__.ipynb",
   "parameters": {},
   "start_time": "2022-12-30T18:35:43.179562",
   "version": "2.3.4"
  }
 },
 "nbformat": 4,
 "nbformat_minor": 5
}
